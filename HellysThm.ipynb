{
 "cells": [
  {
   "cell_type": "code",
   "execution_count": 2,
   "metadata": {},
   "outputs": [
    {
     "data": {
      "text/html": [
       "<pre style=\"white-space:pre;overflow-x:auto;line-height:normal;font-family:Menlo,'DejaVu Sans Mono',consolas,'Courier New',monospace\">Manim Community <span style=\"color: #008000; text-decoration-color: #008000\">v0.18.0</span>\n",
       "\n",
       "</pre>\n"
      ],
      "text/plain": [
       "Manim Community \u001b[32mv0.\u001b[0m\u001b[32m18.0\u001b[0m\n",
       "\n"
      ]
     },
     "metadata": {},
     "output_type": "display_data"
    }
   ],
   "source": [
    "from manim import * \n",
    "config.verbosity = \"WARNING\""
   ]
  },
  {
   "cell_type": "code",
   "execution_count": 24,
   "metadata": {},
   "outputs": [
    {
     "name": "stderr",
     "output_type": "stream",
     "text": [
      "Animation 4: Create(Tex('$C_1)):   0%|          | 0/1 [00:00<?, ?it/s]                                                                              C:\\Users\\erl\\AppData\\Local\\Packages\\PythonSoftwareFoundation.Python.3.11_qbz5n2kfra8p0\\LocalCache\\local-packages\\Python311\\site-packages\\manim\\scene\\scene.py:1483: RuntimeWarning: invalid value encountered in scalar divide\n",
      "  alpha = t / animation.run_time\n",
      "                                                                                                                                                                 \r"
     ]
    },
    {
     "name": "stdout",
     "output_type": "stream",
     "text": [
      "[<bound method Mobject.get_center of Intersection>, <bound method Mobject.get_center of Intersection>, <bound method Mobject.get_center of Intersection>, <bound method Mobject.get_center of Intersection>]\n"
     ]
    },
    {
     "data": {
      "text/html": [
       "<video src=\"media\\jupyter\\HellysIter@2024-03-21@21-05-11.mp4\" controls autoplay loop style=\"max-width: 60%;\"  >\n",
       "      Your browser does not support the <code>video</code> element.\n",
       "    </video>"
      ],
      "text/plain": [
       "<IPython.core.display.Video object>"
      ]
     },
     "metadata": {},
     "output_type": "display_data"
    }
   ],
   "source": [
    "class Hellys(Scene):\n",
    "    def construct(self):\n",
    "        self.camera.background_color = WHITE\n",
    "        title = Tex(r'Helly\\'s Theorem', color = GREY, font_size = 24)\n",
    "        self.play(title.animate.move_to([0,3.5,0]))\n",
    "        thm1 = Tex(r'Let $C_1, \\ldots, C_n$ be convex sets in $\\mathbb{R}^d$, n $\\geq$ d+1.', color=BLACK, font_size= 32)\n",
    "        self.play(thm1.animate.move_to([0,3, 0]))\n",
    "        self.wait(1)\n",
    "        sq = Square(color=BLACK)\n",
    "        pent = RegularPolygon(n = 5, color = BLUE).scale(2)\n",
    "        poly = RegularPolygon(n = 6, color = ORANGE)\n",
    "        tr = Triangle(color = GREEN).scale(1.5)\n",
    "        li = [sq, pent, poly, tr]\n",
    "        for shape, i in zip(li, range(1,5)):\n",
    "            self.play(Create(shape), run_time=.25)\n",
    "            c_i = Tex(f\"$C_{i}$\", font_size=28, color=GREY).next_to(shape)\n",
    "            self.play(Create(c_i), run_time=0)\n",
    "            self.wait(1)\n",
    "            self.remove(shape)\n",
    "            self.remove(c_i)\n",
    "        self.remove(thm1)\n",
    "        thm2 = Tex(r'Suppose that the intersection of every d+1 of these sets is nonempty.', color=BLACK, font_size=32).move_to([0,3,0])\n",
    "        self.play(ReplacementTransform(thm1, thm2))\n",
    "        self.wait(2)\n",
    "        \n",
    "        sq.move_to([-1.5,0,0])\n",
    "        pent.move_to([-.5,-.25,0])\n",
    "        poly.move_to([0,0,-.5])\n",
    "        tr.move_to([0,.5,.25])\n",
    "        colors = [BLUE, RED, GREEN, ORANGE]\n",
    "        intersections = []\n",
    "        for obj, col in zip(li, colors):\n",
    "            subli = list(set(li) - set(obj))\n",
    "            for obj1 in subli:\n",
    "                self.play(Create(obj1), run_time=.25)\n",
    "                self.wait(.5)\n",
    "                #self.play(Create(obj))\n",
    "            inter = Intersection(*[obj for obj in subli], color = col, fill_opacity=0.5 )\n",
    "            intersections.append(inter.get_center)\n",
    "            self.play(Create(inter))\n",
    "            for obj1 in subli: \n",
    "                self.remove(obj1)\n",
    "            self.wait(1)\n",
    "        \n",
    "        thm3 = Tex(r'Then the intersection of all the $C_i$ is nonempty.', color=BLACK, font_size=32).move_to([0,3,0]) \n",
    "        self.play(ReplacementTransform(thm2, thm3))\n",
    "        self.wait(2)\n",
    "        self.play(thm3.animate.move_to([0,3, 0]).set_color(RED).scale(.75))\n",
    "        self.wait(2)\n",
    "        print(intersections)\n",
    "        \n",
    "        p1 = Text(\"Following supposition, \")\n",
    "%manim -qm HellysIter\n"
   ]
  },
  {
   "cell_type": "code",
   "execution_count": null,
   "metadata": {},
   "outputs": [
    {
     "ename": "ValueError",
     "evalue": "too many values to unpack (expected 2)",
     "output_type": "error",
     "traceback": [
      "\u001b[0;31m---------------------------------------------------------------------------\u001b[0m",
      "\u001b[0;31mValueError\u001b[0m                                Traceback (most recent call last)",
      "Cell \u001b[0;32mIn[39], line 1\u001b[0m\n\u001b[0;32m----> 1\u001b[0m \u001b[38;5;28;01mfor\u001b[39;00m i, b \u001b[38;5;129;01min\u001b[39;00m \u001b[38;5;28mrange\u001b[39m(\u001b[38;5;241m1\u001b[39m,\u001b[38;5;241m5\u001b[39m), \u001b[38;5;28mlist\u001b[39m(\u001b[38;5;28mrange\u001b[39m(\u001b[38;5;241m2\u001b[39m,\u001b[38;5;241m6\u001b[39m)):\n\u001b[1;32m      2\u001b[0m     \u001b[38;5;28mprint\u001b[39m(i,b)\n",
      "\u001b[0;31mValueError\u001b[0m: too many values to unpack (expected 2)"
     ]
    }
   ],
   "source": []
  }
 ],
 "metadata": {
  "kernelspec": {
   "display_name": "Python 3",
   "language": "python",
   "name": "python3"
  },
  "language_info": {
   "codemirror_mode": {
    "name": "ipython",
    "version": 3
   },
   "file_extension": ".py",
   "mimetype": "text/x-python",
   "name": "python",
   "nbconvert_exporter": "python",
   "pygments_lexer": "ipython3",
   "version": "3.11.8"
  }
 },
 "nbformat": 4,
 "nbformat_minor": 2
}
